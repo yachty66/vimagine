{
 "cells": [
  {
   "cell_type": "code",
   "execution_count": 2,
   "id": "67a3adf0",
   "metadata": {},
   "outputs": [
    {
     "name": "stdout",
     "output_type": "stream",
     "text": [
      "Sending request to http://localhost:8000/api/py/flux-schnell/generate...\n",
      "\n",
      "✅ Success!\n",
      "{\n",
      "  \"status\": \"succeeded\",\n",
      "  \"result_url\": \"https://im.runware.ai/image/ws/2/ii/38ed86e9-8b14-407e-959d-7467adfeed1a.jpg\"\n",
      "}\n"
     ]
    }
   ],
   "source": [
    "import requests\n",
    "import json\n",
    "\n",
    "# The URL where your FastAPI server is running\n",
    "API_URL = \"http://localhost:8000/api/py/flux-schnell/generate\"\n",
    "\n",
    "# The data (payload) to send\n",
    "payload = {\n",
    "    \"prompt\": \"a photo of an astronaut riding a horse on mars\"\n",
    "}\n",
    "\n",
    "print(f\"Sending request to {API_URL}...\")\n",
    "\n",
    "try:\n",
    "    # Make the POST request\n",
    "    response = requests.post(API_URL, json=payload, timeout=300)\n",
    "\n",
    "    # Raise an exception if the request was unsuccessful (e.g., 4xx or 5xx)\n",
    "    response.raise_for_status()\n",
    "\n",
    "    # Print the successful response\n",
    "    result = response.json()\n",
    "    print(\"\\n✅ Success!\")\n",
    "    print(json.dumps(result, indent=2))\n",
    "\n",
    "except requests.exceptions.HTTPError as http_err:\n",
    "    print(f\"\\n❌ HTTP error occurred: {http_err}\")\n",
    "    print(\"Response body:\", response.text)\n",
    "except Exception as err:\n",
    "    print(f\"\\n❌ An error occurred: {err}\")\n"
   ]
  },
  {
   "cell_type": "code",
   "execution_count": null,
   "id": "899fd8b7",
   "metadata": {},
   "outputs": [],
   "source": []
  }
 ],
 "metadata": {
  "kernelspec": {
   "display_name": "base",
   "language": "python",
   "name": "python3"
  },
  "language_info": {
   "codemirror_mode": {
    "name": "ipython",
    "version": 3
   },
   "file_extension": ".py",
   "mimetype": "text/x-python",
   "name": "python",
   "nbconvert_exporter": "python",
   "pygments_lexer": "ipython3",
   "version": "3.11.10"
  }
 },
 "nbformat": 4,
 "nbformat_minor": 5
}
